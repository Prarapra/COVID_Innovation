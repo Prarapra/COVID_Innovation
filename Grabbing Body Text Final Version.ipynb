{
 "cells": [
  {
   "cell_type": "code",
   "execution_count": 1,
   "metadata": {},
   "outputs": [],
   "source": [
    "#importing packages\n",
    "import pandas as pd\n",
    "from bs4 import BeautifulSoup\n",
    "import requests\n",
    "import string\n",
    "import sys\n",
    "import concurrent.futures\n",
    "import time\n"
   ]
  },
  {
   "cell_type": "code",
   "execution_count": 2,
   "metadata": {},
   "outputs": [],
   "source": [
    "headers = {\"User-Agent\":\"Mozilla/5.0 (Windows NT 10.0; Win64; x64) AppleWebKit/537.36 (KHTML, like Gecko) Chrome/83.0.4103.116 Safari/537.36\"}"
   ]
  },
  {
   "cell_type": "markdown",
   "metadata": {},
   "source": [
    "### Downloading body text"
   ]
  },
  {
   "cell_type": "code",
   "execution_count": 3,
   "metadata": {},
   "outputs": [
    {
     "name": "stdout",
     "output_type": "stream",
     "text": [
      "<class 'requests.exceptions.ConnectionError'>\n",
      "https://amp.theguardian.comsociety/2020/jun/16/private-hospitals-can-help-nhs-recover-from-covid-19\n",
      "<class 'requests.exceptions.ConnectionError'>\n",
      "https://amp.theguardian.comsociety/2020/jun/27/jobless-total-to-hit-1980s-levels-without-fresh-state-support\n",
      "<class 'requests.exceptions.ConnectionError'>\n",
      "https://amp.theguardian.comus-news/2020/jul/09/us-coronavirus-cases-record-fauci\n",
      "<class 'requests.exceptions.ConnectionError'>\n",
      "https://amp.theguardian.comus-news/2020/jun/17/gender-roles-parenting-housework-coronavirus-pandemic\n",
      "<class 'requests.exceptions.ConnectionError'>\n",
      "https://amp.theguardian.comus-news/2020/jun/29/cameron-webb-obama-history-congress-virignia\n",
      "<class 'requests.exceptions.ConnectionError'>\n",
      "https://amp.theguardian.comus-news/2020/jul/03/los-angeles-covid-19-surge-homeless-immigrants\n",
      "<class 'requests.exceptions.ConnectionError'>\n",
      "https://amp.theguardian.comworld/2020/jun/29/abortion-ruling-supreme-court-strikes-down-louisiana-law\n",
      "<class 'requests.exceptions.ConnectionError'>\n",
      "https://amp.theguardian.comus-news/2020/jul/12/15000-new-coronavirus-cases-florida-record-daily-total-us\n",
      "<class 'requests.exceptions.ConnectionError'>\n",
      "https://amp.theguardian.comus-news/2020/jun/30/california-prisons-forced-sterilizations-belly-beast\n",
      "<class 'requests.exceptions.ConnectionError'>\n",
      "https://amp.theguardian.comworld/2020/jul/07/the-muslim-bereaved-cruelly-deprived-of-closure-by-coronavirus\n",
      "Finished in 568.3505828999998 seconds\n"
     ]
    }
   ],
   "source": [
    "t1 = time.perf_counter()\n",
    "final = {}\n",
    "\n",
    "def download_text(url):\n",
    "    try:\n",
    "        global info\n",
    "        info = {}\n",
    "        r = requests.get(url, headers = headers)\n",
    "        time.sleep(10)\n",
    "        html_doc= r.text\n",
    "        soup = BeautifulSoup(html_doc, 'html.parser')\n",
    "        #print(soup.prettify())\n",
    "        if soup.find_all('p'):\n",
    "            y =\"\"\n",
    "            for x in soup.find_all('p'):\n",
    "                y += x.get_text()\n",
    "            info[soup.title.text] = y\n",
    "        elif soup.find_all('section'):\n",
    "            y = \"\"\n",
    "            for x in soup.find_all('section'): #section class = 'articlebody'\n",
    "                y += x.get_text()\n",
    "            info[soup.title.text] = y\n",
    "    except:\n",
    "        e = sys.exc_info()[0]\n",
    "        print(e)\n",
    "        print(url)\n",
    "    \n",
    "    final.update(info)\n",
    "  \n",
    "  \n",
    "for chunk in pd.read_csv(\"us_articles_final.csv\",chunksize = 50):   #INPUT CSV FILE HERE \n",
    "    with concurrent.futures.ThreadPoolExecutor() as executor:\n",
    "        executor.map(download_text, chunk.iloc[:,3])\n",
    "        \n",
    "    \n",
    "t2 = time.perf_counter()\n",
    "print(f'Finished in {t2-t1} seconds')\n",
    "\n",
    "#Final ouput is dictionary called 'final'"
   ]
  },
  {
   "cell_type": "code",
   "execution_count": 4,
   "metadata": {},
   "outputs": [
    {
     "name": "stdout",
     "output_type": "stream",
     "text": [
      "The length of the original dataset is  1952\n",
      "\n",
      "\n",
      "The numer of articles we succesfully grabbed body text from is  1843\n"
     ]
    }
   ],
   "source": [
    "#confirmation that we have all/most the articles\n",
    "i = pd.read_csv('us_articles_final.csv')\n",
    "print('The length of the original dataset is ' , len(i))\n",
    "print(\"\\n\")\n",
    "print('The numer of articles we succesfully grabbed body text from is ', len(final))"
   ]
  },
  {
   "cell_type": "code",
   "execution_count": 6,
   "metadata": {},
   "outputs": [],
   "source": [
    "#dictionary to dataframe\n",
    "df = pd.DataFrame(list(final.items()),columns = ['title','body_text']) "
   ]
  },
  {
   "cell_type": "code",
   "execution_count": 7,
   "metadata": {},
   "outputs": [],
   "source": [
    "#dataframe to csv\n",
    "df.to_csv(\"Articles_text.csv\",index = False)"
   ]
  }
 ],
 "metadata": {
  "kernelspec": {
   "display_name": "Python 3",
   "language": "python",
   "name": "python3"
  },
  "language_info": {
   "codemirror_mode": {
    "name": "ipython",
    "version": 3
   },
   "file_extension": ".py",
   "mimetype": "text/x-python",
   "name": "python",
   "nbconvert_exporter": "python",
   "pygments_lexer": "ipython3",
   "version": "3.7.3"
  }
 },
 "nbformat": 4,
 "nbformat_minor": 2
}
