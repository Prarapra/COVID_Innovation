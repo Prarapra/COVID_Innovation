{
 "cells": [
  {
   "cell_type": "code",
   "execution_count": 1,
   "metadata": {},
   "outputs": [],
   "source": [
    "#importing packages\n",
    "import pandas as pd\n",
    "from bs4 import BeautifulSoup\n",
    "import requests\n",
    "import string\n",
    "import sys\n",
    "import concurrent.futures\n",
    "import time\n"
   ]
  },
  {
   "cell_type": "markdown",
   "metadata": {},
   "source": [
    "### Downloading body text"
   ]
  },
  {
   "cell_type": "code",
   "execution_count": 2,
   "metadata": {},
   "outputs": [],
   "source": [
    "t1 = time.perf_counter()\n",
    "final = {}\n",
    "\n",
    "def download_text(url):\n",
    "    try:\n",
    "        global info\n",
    "        info = {}\n",
    "        r = requests.get(url, headers = headers)\n",
    "        time.sleep(10)\n",
    "        html_doc= r.text\n",
    "        soup = BeautifulSoup(html_doc, 'html.parser')\n",
    "        #print(soup.prettify())\n",
    "        if soup.find_all('p'):\n",
    "            y =\"\"\n",
    "            for x in soup.find_all('p'):\n",
    "                y += x.get_text()\n",
    "            info[soup.title.text] = y\n",
    "        elif soup.find_all('section'):\n",
    "            y = \"\"\n",
    "            for x in soup.find_all('section'): #section class = 'articlebody'\n",
    "                y += x.get_text()\n",
    "            info[soup.title.text] = y\n",
    "    except:\n",
    "        e = sys.exc_info()[0]\n",
    "        print(e)\n",
    "        print(url)\n",
    "    \n",
    "    final.update(info)\n",
    "######################Experimental    \n",
    "  \n",
    "for chunk in pd.read_csv(\"compiled_articles.csv\",chunksize = 50):   #INPUT CSV FILE HERE \n",
    "#######################################\n",
    "    with concurrent.futures.ThreadPoolExecutor() as executor:\n",
    "        executor.map(download_text, chunk.iloc[:,5])\n",
    "    \n",
    "t2 = time.perf_counter()\n",
    "print(f'Finished in {t2-t1} seconds')\n",
    "\n",
    "#Final ouput is dictionary called 'final'"
   ]
  },
  {
   "cell_type": "code",
   "execution_count": null,
   "metadata": {},
   "outputs": [],
   "source": [
    "#confirmation that we have all/most the articles\n",
    "i = pd.read_csv('')\n",
    "print('The length of the original dataset is ' , len(i))\n",
    "print(\"\\n\")\n",
    "print('The numer of articles we succesfully grabbed body text from is ', len(final))"
   ]
  },
  {
   "cell_type": "code",
   "execution_count": null,
   "metadata": {},
   "outputs": [],
   "source": [
    "#dictionary to dataframe\n",
    "df = pd.DataFrame(list(final.items()),columns = ['title','body_text']) "
   ]
  },
  {
   "cell_type": "code",
   "execution_count": null,
   "metadata": {},
   "outputs": [],
   "source": [
    "#dataframe to csv\n",
    "df.to_csv(\"Articles_text.csv\",index = False)"
   ]
  }
 ],
 "metadata": {
  "kernelspec": {
   "display_name": "Python 3",
   "language": "python",
   "name": "python3"
  },
  "language_info": {
   "codemirror_mode": {
    "name": "ipython",
    "version": 3
   },
   "file_extension": ".py",
   "mimetype": "text/x-python",
   "name": "python",
   "nbconvert_exporter": "python",
   "pygments_lexer": "ipython3",
   "version": "3.7.3"
  }
 },
 "nbformat": 4,
 "nbformat_minor": 2
}
