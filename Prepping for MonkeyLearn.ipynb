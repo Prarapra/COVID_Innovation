{
 "cells": [
  {
   "cell_type": "markdown",
   "metadata": {},
   "source": [
    "## MonkeyLearn has a 100mb limit"
   ]
  },
  {
   "cell_type": "markdown",
   "metadata": {},
   "source": [
    "## Importing Data"
   ]
  },
  {
   "cell_type": "code",
   "execution_count": 2,
   "metadata": {},
   "outputs": [],
   "source": [
    "import pandas as pd"
   ]
  },
  {
   "cell_type": "code",
   "execution_count": 5,
   "metadata": {},
   "outputs": [
    {
     "data": {
      "text/html": [
       "<div>\n",
       "<style scoped>\n",
       "    .dataframe tbody tr th:only-of-type {\n",
       "        vertical-align: middle;\n",
       "    }\n",
       "\n",
       "    .dataframe tbody tr th {\n",
       "        vertical-align: top;\n",
       "    }\n",
       "\n",
       "    .dataframe thead th {\n",
       "        text-align: right;\n",
       "    }\n",
       "</style>\n",
       "<table border=\"1\" class=\"dataframe\">\n",
       "  <thead>\n",
       "    <tr style=\"text-align: right;\">\n",
       "      <th></th>\n",
       "      <th>Unnamed: 0</th>\n",
       "      <th>Title</th>\n",
       "      <th>Datetime</th>\n",
       "      <th>Source</th>\n",
       "      <th>URL</th>\n",
       "      <th>Search</th>\n",
       "      <th>body_text</th>\n",
       "    </tr>\n",
       "  </thead>\n",
       "  <tbody>\n",
       "    <tr>\n",
       "      <th>0</th>\n",
       "      <td>32094</td>\n",
       "      <td>How Oak Street Health has revamped its busines...</td>\n",
       "      <td>2020-04-23T09:40:00Z</td>\n",
       "      <td>Triangle Business Journal</td>\n",
       "      <td>https://www.bizjournals.com/philadelphia/news/...</td>\n",
       "      <td>+\"on the fly\" AND +\"primary care\" AND +covid</td>\n",
       "      <td>NaN</td>\n",
       "    </tr>\n",
       "    <tr>\n",
       "      <th>1</th>\n",
       "      <td>25362</td>\n",
       "      <td>‘Homeland’ Producers Talk Alternate Endings, C...</td>\n",
       "      <td>2020-04-27T02:30:45Z</td>\n",
       "      <td>Variety</td>\n",
       "      <td>https://variety.com/2020/tv/news/homeland-fina...</td>\n",
       "      <td>+\"on the fly\" AND +\"primary care\" AND +covid A...</td>\n",
       "      <td>Variety Print Plus SubscriberVariety Print Plu...</td>\n",
       "    </tr>\n",
       "    <tr>\n",
       "      <th>2</th>\n",
       "      <td>36730</td>\n",
       "      <td>New program helps small Vermont businesses ada...</td>\n",
       "      <td>2020-10-15T18:52:09Z</td>\n",
       "      <td>vtdigger.org</td>\n",
       "      <td>https://vtdigger.org/2020/10/15/new-program-he...</td>\n",
       "      <td>+\"on the fly\" AND +COVID-19 AND +equipment</td>\n",
       "      <td>Rigorous nonprofit news for Vermont.Today's Bu...</td>\n",
       "    </tr>\n",
       "    <tr>\n",
       "      <th>3</th>\n",
       "      <td>36744</td>\n",
       "      <td>Owner of Vauxhall Takeout BBQ Restaurant Named...</td>\n",
       "      <td>2020-10-10T06:00:00Z</td>\n",
       "      <td>TAPinto.net</td>\n",
       "      <td>https://www.tapinto.net/towns/union/sections/f...</td>\n",
       "      <td>+\"on the fly\" AND +COVID-19 AND +equipment</td>\n",
       "      <td>VAUXHALL, NJ – A Vauxhall restaurant owner has...</td>\n",
       "    </tr>\n",
       "    <tr>\n",
       "      <th>4</th>\n",
       "      <td>36739</td>\n",
       "      <td>Second Chance Studios: Turning Ex-Offenders In...</td>\n",
       "      <td>2020-07-17T14:28:31Z</td>\n",
       "      <td>Forbes</td>\n",
       "      <td>https://www.forbes.com/sites/annefield/2020/07...</td>\n",
       "      <td>+\"on the fly\" AND +COVID-19 AND +equipment</td>\n",
       "      <td>Coss MarteHere are two issues Coss Marte start...</td>\n",
       "    </tr>\n",
       "  </tbody>\n",
       "</table>\n",
       "</div>"
      ],
      "text/plain": [
       "   Unnamed: 0                                              Title  \\\n",
       "0       32094  How Oak Street Health has revamped its busines...   \n",
       "1       25362  ‘Homeland’ Producers Talk Alternate Endings, C...   \n",
       "2       36730  New program helps small Vermont businesses ada...   \n",
       "3       36744  Owner of Vauxhall Takeout BBQ Restaurant Named...   \n",
       "4       36739  Second Chance Studios: Turning Ex-Offenders In...   \n",
       "\n",
       "               Datetime                     Source  \\\n",
       "0  2020-04-23T09:40:00Z  Triangle Business Journal   \n",
       "1  2020-04-27T02:30:45Z                    Variety   \n",
       "2  2020-10-15T18:52:09Z               vtdigger.org   \n",
       "3  2020-10-10T06:00:00Z                TAPinto.net   \n",
       "4  2020-07-17T14:28:31Z                     Forbes   \n",
       "\n",
       "                                                 URL  \\\n",
       "0  https://www.bizjournals.com/philadelphia/news/...   \n",
       "1  https://variety.com/2020/tv/news/homeland-fina...   \n",
       "2  https://vtdigger.org/2020/10/15/new-program-he...   \n",
       "3  https://www.tapinto.net/towns/union/sections/f...   \n",
       "4  https://www.forbes.com/sites/annefield/2020/07...   \n",
       "\n",
       "                                              Search  \\\n",
       "0       +\"on the fly\" AND +\"primary care\" AND +covid   \n",
       "1  +\"on the fly\" AND +\"primary care\" AND +covid A...   \n",
       "2         +\"on the fly\" AND +COVID-19 AND +equipment   \n",
       "3         +\"on the fly\" AND +COVID-19 AND +equipment   \n",
       "4         +\"on the fly\" AND +COVID-19 AND +equipment   \n",
       "\n",
       "                                           body_text  \n",
       "0                                                NaN  \n",
       "1  Variety Print Plus SubscriberVariety Print Plu...  \n",
       "2  Rigorous nonprofit news for Vermont.Today's Bu...  \n",
       "3  VAUXHALL, NJ – A Vauxhall restaurant owner has...  \n",
       "4  Coss MarteHere are two issues Coss Marte start...  "
      ]
     },
     "execution_count": 5,
     "metadata": {},
     "output_type": "execute_result"
    }
   ],
   "source": [
    "#identifying training set\n",
    "test = pd.read_csv(\"C:/Users/stuar/OneDrive/Documents/Python Scripts/Projects/NEWS APIs/DataSets/TestingSet2v1_btext.csv\")\n",
    "test.head()"
   ]
  },
  {
   "cell_type": "code",
   "execution_count": 4,
   "metadata": {},
   "outputs": [
    {
     "data": {
      "text/plain": [
       "30196"
      ]
     },
     "execution_count": 4,
     "metadata": {},
     "output_type": "execute_result"
    }
   ],
   "source": [
    "len(test)"
   ]
  },
  {
   "cell_type": "markdown",
   "metadata": {},
   "source": [
    "### Getting rid of columns"
   ]
  },
  {
   "cell_type": "code",
   "execution_count": 23,
   "metadata": {},
   "outputs": [
    {
     "data": {
      "text/html": [
       "<div>\n",
       "<style scoped>\n",
       "    .dataframe tbody tr th:only-of-type {\n",
       "        vertical-align: middle;\n",
       "    }\n",
       "\n",
       "    .dataframe tbody tr th {\n",
       "        vertical-align: top;\n",
       "    }\n",
       "\n",
       "    .dataframe thead th {\n",
       "        text-align: right;\n",
       "    }\n",
       "</style>\n",
       "<table border=\"1\" class=\"dataframe\">\n",
       "  <thead>\n",
       "    <tr style=\"text-align: right;\">\n",
       "      <th></th>\n",
       "      <th>Title</th>\n",
       "      <th>URL</th>\n",
       "      <th>body_text</th>\n",
       "    </tr>\n",
       "  </thead>\n",
       "  <tbody>\n",
       "    <tr>\n",
       "      <th>0</th>\n",
       "      <td>How Oak Street Health has revamped its busines...</td>\n",
       "      <td>https://www.bizjournals.com/philadelphia/news/...</td>\n",
       "      <td>NaN</td>\n",
       "    </tr>\n",
       "    <tr>\n",
       "      <th>1</th>\n",
       "      <td>‘Homeland’ Producers Talk Alternate Endings, C...</td>\n",
       "      <td>https://variety.com/2020/tv/news/homeland-fina...</td>\n",
       "      <td>Variety Print Plus SubscriberVariety Print Plu...</td>\n",
       "    </tr>\n",
       "    <tr>\n",
       "      <th>2</th>\n",
       "      <td>New program helps small Vermont businesses ada...</td>\n",
       "      <td>https://vtdigger.org/2020/10/15/new-program-he...</td>\n",
       "      <td>Rigorous nonprofit news for Vermont.Today's Bu...</td>\n",
       "    </tr>\n",
       "    <tr>\n",
       "      <th>3</th>\n",
       "      <td>Owner of Vauxhall Takeout BBQ Restaurant Named...</td>\n",
       "      <td>https://www.tapinto.net/towns/union/sections/f...</td>\n",
       "      <td>VAUXHALL, NJ – A Vauxhall restaurant owner has...</td>\n",
       "    </tr>\n",
       "    <tr>\n",
       "      <th>4</th>\n",
       "      <td>Second Chance Studios: Turning Ex-Offenders In...</td>\n",
       "      <td>https://www.forbes.com/sites/annefield/2020/07...</td>\n",
       "      <td>Coss MarteHere are two issues Coss Marte start...</td>\n",
       "    </tr>\n",
       "  </tbody>\n",
       "</table>\n",
       "</div>"
      ],
      "text/plain": [
       "                                               Title  \\\n",
       "0  How Oak Street Health has revamped its busines...   \n",
       "1  ‘Homeland’ Producers Talk Alternate Endings, C...   \n",
       "2  New program helps small Vermont businesses ada...   \n",
       "3  Owner of Vauxhall Takeout BBQ Restaurant Named...   \n",
       "4  Second Chance Studios: Turning Ex-Offenders In...   \n",
       "\n",
       "                                                 URL  \\\n",
       "0  https://www.bizjournals.com/philadelphia/news/...   \n",
       "1  https://variety.com/2020/tv/news/homeland-fina...   \n",
       "2  https://vtdigger.org/2020/10/15/new-program-he...   \n",
       "3  https://www.tapinto.net/towns/union/sections/f...   \n",
       "4  https://www.forbes.com/sites/annefield/2020/07...   \n",
       "\n",
       "                                           body_text  \n",
       "0                                                NaN  \n",
       "1  Variety Print Plus SubscriberVariety Print Plu...  \n",
       "2  Rigorous nonprofit news for Vermont.Today's Bu...  \n",
       "3  VAUXHALL, NJ – A Vauxhall restaurant owner has...  \n",
       "4  Coss MarteHere are two issues Coss Marte start...  "
      ]
     },
     "execution_count": 23,
     "metadata": {},
     "output_type": "execute_result"
    }
   ],
   "source": [
    "#cleaning the data (too big for Monkey learn)\n",
    "test = test.drop([\"Unnamed: 0\",\"Datetime\",\"Source\",\"Search\"], axis=1)\n",
    "test.head()"
   ]
  },
  {
   "cell_type": "code",
   "execution_count": 25,
   "metadata": {},
   "outputs": [
    {
     "data": {
      "text/plain": [
       "Title          0\n",
       "URL            0\n",
       "body_text    645\n",
       "dtype: int64"
      ]
     },
     "execution_count": 25,
     "metadata": {},
     "output_type": "execute_result"
    }
   ],
   "source": [
    "#finding # of Nas\n",
    "test.isna().sum()"
   ]
  },
  {
   "cell_type": "code",
   "execution_count": 26,
   "metadata": {},
   "outputs": [
    {
     "data": {
      "text/html": [
       "<div>\n",
       "<style scoped>\n",
       "    .dataframe tbody tr th:only-of-type {\n",
       "        vertical-align: middle;\n",
       "    }\n",
       "\n",
       "    .dataframe tbody tr th {\n",
       "        vertical-align: top;\n",
       "    }\n",
       "\n",
       "    .dataframe thead th {\n",
       "        text-align: right;\n",
       "    }\n",
       "</style>\n",
       "<table border=\"1\" class=\"dataframe\">\n",
       "  <thead>\n",
       "    <tr style=\"text-align: right;\">\n",
       "      <th></th>\n",
       "      <th>Title</th>\n",
       "      <th>URL</th>\n",
       "      <th>body_text</th>\n",
       "    </tr>\n",
       "  </thead>\n",
       "  <tbody>\n",
       "    <tr>\n",
       "      <th>1</th>\n",
       "      <td>‘Homeland’ Producers Talk Alternate Endings, C...</td>\n",
       "      <td>https://variety.com/2020/tv/news/homeland-fina...</td>\n",
       "      <td>Variety Print Plus SubscriberVariety Print Plu...</td>\n",
       "    </tr>\n",
       "    <tr>\n",
       "      <th>2</th>\n",
       "      <td>New program helps small Vermont businesses ada...</td>\n",
       "      <td>https://vtdigger.org/2020/10/15/new-program-he...</td>\n",
       "      <td>Rigorous nonprofit news for Vermont.Today's Bu...</td>\n",
       "    </tr>\n",
       "    <tr>\n",
       "      <th>3</th>\n",
       "      <td>Owner of Vauxhall Takeout BBQ Restaurant Named...</td>\n",
       "      <td>https://www.tapinto.net/towns/union/sections/f...</td>\n",
       "      <td>VAUXHALL, NJ – A Vauxhall restaurant owner has...</td>\n",
       "    </tr>\n",
       "    <tr>\n",
       "      <th>4</th>\n",
       "      <td>Second Chance Studios: Turning Ex-Offenders In...</td>\n",
       "      <td>https://www.forbes.com/sites/annefield/2020/07...</td>\n",
       "      <td>Coss MarteHere are two issues Coss Marte start...</td>\n",
       "    </tr>\n",
       "    <tr>\n",
       "      <th>5</th>\n",
       "      <td>7 Ways To Make Your Online Virtual Conference ...</td>\n",
       "      <td>https://www.forbes.com/sites/jonpicoult/2020/0...</td>\n",
       "      <td>GettyThe COVID-19 global pandemic has upended ...</td>\n",
       "    </tr>\n",
       "    <tr>\n",
       "      <th>...</th>\n",
       "      <td>...</td>\n",
       "      <td>...</td>\n",
       "      <td>...</td>\n",
       "    </tr>\n",
       "    <tr>\n",
       "      <th>30191</th>\n",
       "      <td>Edited Transcript of APAX.L earnings conferenc...</td>\n",
       "      <td>https://ca.sports.yahoo.com/news/edited-transc...</td>\n",
       "      <td>Q1 2020 Apax Global Alpha Ltd Earnings Call ST...</td>\n",
       "    </tr>\n",
       "    <tr>\n",
       "      <th>30192</th>\n",
       "      <td>When any country rises, it will be tested, it ...</td>\n",
       "      <td>https://indianexpress.com/article/india/extern...</td>\n",
       "      <td>At an e-Adda held this week, days before he le...</td>\n",
       "    </tr>\n",
       "    <tr>\n",
       "      <th>30193</th>\n",
       "      <td>Covid-19: Three technology areas that CIOs mus...</td>\n",
       "      <td>https://www.computerweekly.com/news/252480132/...</td>\n",
       "      <td>pinkeyes - stock.adobe.comWith employees worki...</td>\n",
       "    </tr>\n",
       "    <tr>\n",
       "      <th>30194</th>\n",
       "      <td>IDEX Corp (IEX) Q1 2020 Earnings Call Transcript</td>\n",
       "      <td>https://www.fool.com/earnings/call-transcripts...</td>\n",
       "      <td>Returns as of 11/19/2020Returns as of 11/19/20...</td>\n",
       "    </tr>\n",
       "    <tr>\n",
       "      <th>30195</th>\n",
       "      <td>Thursday CoronaBuzz, June 25, 2020: 39 pointer...</td>\n",
       "      <td>https://researchbuzz.me/2020/06/25/thursday-co...</td>\n",
       "      <td>Wash your hands and stay at home as much as yo...</td>\n",
       "    </tr>\n",
       "  </tbody>\n",
       "</table>\n",
       "<p>29551 rows × 3 columns</p>\n",
       "</div>"
      ],
      "text/plain": [
       "                                                   Title  \\\n",
       "1      ‘Homeland’ Producers Talk Alternate Endings, C...   \n",
       "2      New program helps small Vermont businesses ada...   \n",
       "3      Owner of Vauxhall Takeout BBQ Restaurant Named...   \n",
       "4      Second Chance Studios: Turning Ex-Offenders In...   \n",
       "5      7 Ways To Make Your Online Virtual Conference ...   \n",
       "...                                                  ...   \n",
       "30191  Edited Transcript of APAX.L earnings conferenc...   \n",
       "30192  When any country rises, it will be tested, it ...   \n",
       "30193  Covid-19: Three technology areas that CIOs mus...   \n",
       "30194   IDEX Corp (IEX) Q1 2020 Earnings Call Transcript   \n",
       "30195  Thursday CoronaBuzz, June 25, 2020: 39 pointer...   \n",
       "\n",
       "                                                     URL  \\\n",
       "1      https://variety.com/2020/tv/news/homeland-fina...   \n",
       "2      https://vtdigger.org/2020/10/15/new-program-he...   \n",
       "3      https://www.tapinto.net/towns/union/sections/f...   \n",
       "4      https://www.forbes.com/sites/annefield/2020/07...   \n",
       "5      https://www.forbes.com/sites/jonpicoult/2020/0...   \n",
       "...                                                  ...   \n",
       "30191  https://ca.sports.yahoo.com/news/edited-transc...   \n",
       "30192  https://indianexpress.com/article/india/extern...   \n",
       "30193  https://www.computerweekly.com/news/252480132/...   \n",
       "30194  https://www.fool.com/earnings/call-transcripts...   \n",
       "30195  https://researchbuzz.me/2020/06/25/thursday-co...   \n",
       "\n",
       "                                               body_text  \n",
       "1      Variety Print Plus SubscriberVariety Print Plu...  \n",
       "2      Rigorous nonprofit news for Vermont.Today's Bu...  \n",
       "3      VAUXHALL, NJ – A Vauxhall restaurant owner has...  \n",
       "4      Coss MarteHere are two issues Coss Marte start...  \n",
       "5      GettyThe COVID-19 global pandemic has upended ...  \n",
       "...                                                  ...  \n",
       "30191  Q1 2020 Apax Global Alpha Ltd Earnings Call ST...  \n",
       "30192  At an e-Adda held this week, days before he le...  \n",
       "30193  pinkeyes - stock.adobe.comWith employees worki...  \n",
       "30194  Returns as of 11/19/2020Returns as of 11/19/20...  \n",
       "30195  Wash your hands and stay at home as much as yo...  \n",
       "\n",
       "[29551 rows x 3 columns]"
      ]
     },
     "execution_count": 26,
     "metadata": {},
     "output_type": "execute_result"
    }
   ],
   "source": [
    "#dropping nas\n",
    "test.dropna()"
   ]
  },
  {
   "cell_type": "code",
   "execution_count": 27,
   "metadata": {},
   "outputs": [
    {
     "data": {
      "text/plain": [
       "30196"
      ]
     },
     "execution_count": 27,
     "metadata": {},
     "output_type": "execute_result"
    }
   ],
   "source": [
    "len(test)"
   ]
  },
  {
   "cell_type": "code",
   "execution_count": null,
   "metadata": {},
   "outputs": [],
   "source": [
    "#putting into 1 big file\n",
    "test.to_csv('C:/Users/stuar/OneDrive/Documents/Python Scripts/Projects/NEWS APIs/DataSets/TestingSet2summ.csv', index = False)"
   ]
  },
  {
   "cell_type": "markdown",
   "metadata": {},
   "source": [
    "### Dividing the file into 4 sections"
   ]
  },
  {
   "cell_type": "code",
   "execution_count": 34,
   "metadata": {},
   "outputs": [],
   "source": [
    "for i,chunk in enumerate(pd.read_csv('C:/Users/stuar/OneDrive/Documents/Python Scripts/Projects/NEWS APIs/DataSets/TestingSet2summ.csv', chunksize=9000)):\n",
    "    chunk.to_csv('C:/Users/stuar/OneDrive/Documents/Python Scripts/Projects/NEWS APIs/DataSets/TestingSet2.{}.csv'.format(i), index=False)"
   ]
  },
  {
   "cell_type": "code",
   "execution_count": 29,
   "metadata": {},
   "outputs": [],
   "source": []
  },
  {
   "cell_type": "code",
   "execution_count": null,
   "metadata": {},
   "outputs": [],
   "source": []
  },
  {
   "cell_type": "code",
   "execution_count": 11,
   "metadata": {},
   "outputs": [
    {
     "data": {
      "text/plain": [
       "2443"
      ]
     },
     "execution_count": 11,
     "metadata": {},
     "output_type": "execute_result"
    }
   ],
   "source": [
    "#identifying relevant sets\n",
    "relevant = test[test['Classification'] == \"1\"]\n",
    "#length\n",
    "len(relevant)"
   ]
  },
  {
   "cell_type": "code",
   "execution_count": null,
   "metadata": {},
   "outputs": [],
   "source": []
  }
 ],
 "metadata": {
  "kernelspec": {
   "display_name": "Python 3",
   "language": "python",
   "name": "python3"
  },
  "language_info": {
   "codemirror_mode": {
    "name": "ipython",
    "version": 3
   },
   "file_extension": ".py",
   "mimetype": "text/x-python",
   "name": "python",
   "nbconvert_exporter": "python",
   "pygments_lexer": "ipython3",
   "version": "3.7.3"
  }
 },
 "nbformat": 4,
 "nbformat_minor": 4
}
